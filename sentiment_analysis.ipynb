{
 "cells": [
  {
   "cell_type": "code",
   "execution_count": 25,
   "id": "2c757a6c",
   "metadata": {},
   "outputs": [],
   "source": [
    "# Basic string operations\n",
    "sample_text = \"I love Python programming! It's amazing.\""
   ]
  },
  {
   "cell_type": "code",
   "execution_count": 26,
   "id": "c53e9b78",
   "metadata": {},
   "outputs": [
    {
     "name": "stdout",
     "output_type": "stream",
     "text": [
      "Lowercase text: i love python programming! it's amazing.\n"
     ]
    }
   ],
   "source": [
    "# 1. String manipulation\n",
    "lower_text = sample_text.lower()  # Convert to lowercase\n",
    "print(\"Lowercase text:\", lower_text)"
   ]
  },
  {
   "cell_type": "code",
   "execution_count": 27,
   "id": "eea4f828",
   "metadata": {},
   "outputs": [
    {
     "name": "stdout",
     "output_type": "stream",
     "text": [
      "Words: ['I', 'love', 'Python', 'programming!', \"It's\", 'amazing.']\n"
     ]
    }
   ],
   "source": [
    "# 2. Splitting text into words\n",
    "words = sample_text.split()\n",
    "print(\"Words:\", words)"
   ]
  },
  {
   "cell_type": "code",
   "execution_count": 28,
   "id": "f5feafdc",
   "metadata": {},
   "outputs": [
    {
     "name": "stdout",
     "output_type": "stream",
     "text": [
      "Characters: 40, Words: 6\n"
     ]
    }
   ],
   "source": [
    "# 3. Counting characters and words\n",
    "char_count = len(sample_text)\n",
    "word_count = len(words)\n",
    "print(f\"Characters: {char_count}, Words: {word_count}\")"
   ]
  },
  {
   "cell_type": "code",
   "execution_count": 29,
   "id": "230a682c",
   "metadata": {},
   "outputs": [
    {
     "name": "stdout",
     "output_type": "stream",
     "text": [
      "Positive words: 1, Negative words: 0\n"
     ]
    }
   ],
   "source": [
    "# 4. Simple sentiment check using keywords\n",
    "positive_words = ['love', 'amazing', 'great', 'awesome']\n",
    "negative_words = ['hate', 'bad', 'terrible', 'awful']\n",
    "\n",
    "positive_count = 0\n",
    "negative_count = 0\n",
    "\n",
    "for word in words:\n",
    "    if word.lower() in positive_words:\n",
    "        positive_count += 1\n",
    "    elif word.lower() in negative_words:\n",
    "        negative_count += 1\n",
    "\n",
    "print(f\"Positive words: {positive_count}, Negative words: {negative_count}\")"
   ]
  },
  {
   "cell_type": "code",
   "execution_count": 30,
   "id": "6fb77972",
   "metadata": {},
   "outputs": [
    {
     "name": "stdout",
     "output_type": "stream",
     "text": [
      "Text: 'I love this product! It's great.'\n",
      "Sentiment: Positive\n",
      "--------------------------------------------------\n",
      "Text: 'I hate waiting in long lines.'\n",
      "Sentiment: Negative\n",
      "--------------------------------------------------\n",
      "Text: 'This movie was okay, nothing special.'\n",
      "Sentiment: Neutral\n",
      "--------------------------------------------------\n"
     ]
    }
   ],
   "source": [
    "# Step 4: Create a Simple Sentiment Analysis Function\n",
    "\n",
    "def simple_sentiment_analysis(text):\n",
    "    \"\"\"Basic sentiment analysis using keyword matching\"\"\"\n",
    "    positive_words = ['love', 'like', 'great', 'good', 'awesome', 'happy']\n",
    "    negative_words = ['hate', 'bad', 'terrible', 'awful', 'sad', 'angry']\n",
    "    \n",
    "    positive_score = 0\n",
    "    negative_score = 0\n",
    "    \n",
    "    words = text.lower().split()\n",
    "    \n",
    "    for word in words:\n",
    "        if word in positive_words:\n",
    "            positive_score += 1\n",
    "        elif word in negative_words:\n",
    "            negative_score += 1\n",
    "    \n",
    "    if positive_score > negative_score:\n",
    "        return \"Positive\"\n",
    "    elif negative_score > positive_score:\n",
    "        return \"Negative\"\n",
    "    else:\n",
    "        return \"Neutral\"\n",
    "\n",
    "# Test the function\n",
    "test_texts = [\n",
    "    \"I love this product! It's great.\",\n",
    "    \"I hate waiting in long lines.\",\n",
    "    \"This movie was okay, nothing special.\"\n",
    "]\n",
    "\n",
    "for text in test_texts:\n",
    "    print(f\"Text: '{text}'\")\n",
    "    print(\"Sentiment:\", simple_sentiment_analysis(text))\n",
    "    print(\"-\" * 50)"
   ]
  },
  {
   "cell_type": "code",
   "execution_count": 31,
   "id": "35db41f7",
   "metadata": {},
   "outputs": [
    {
     "name": "stdout",
     "output_type": "stream",
     "text": [
      "\\Sample Dataset:\n",
      "                    text expected_sentiment\n",
      "0   I love this product!           positive\n",
      "1      This is terrible.           negative\n",
      "2  It's okay, not great.            neutral\n",
      "3  Absolutely fantastic!           positive\n",
      "4        I hate Mondays.           negative\n",
      "\n",
      "After Sentiment Analysis:\n",
      "                    text expected_sentiment predicted_sentiment\n",
      "0   I love this product!           positive            Positive\n",
      "1      This is terrible.           negative             Neutral\n",
      "2  It's okay, not great.            neutral             Neutral\n",
      "3  Absolutely fantastic!           positive             Neutral\n",
      "4        I hate Mondays.           negative            Negative\n",
      "\n",
      "Accuracy: 60.00%\n"
     ]
    },
    {
     "name": "stderr",
     "output_type": "stream",
     "text": [
      "<>:20: SyntaxWarning: invalid escape sequence '\\S'\n",
      "<>:20: SyntaxWarning: invalid escape sequence '\\S'\n",
      "/tmp/ipykernel_5254/2766756153.py:20: SyntaxWarning: invalid escape sequence '\\S'\n",
      "  print(\"\\Sample Dataset:\")\n"
     ]
    }
   ],
   "source": [
    "# Step 5: Import and Analyze Sample Data\n",
    "\n",
    "import pandas as pd\n",
    "\n",
    "# Create a simple dataset\n",
    "\n",
    "data = {\n",
    "    'text': [\n",
    "        \"I love this product!\",\n",
    "        \"This is terrible.\",\n",
    "        \"It's okay, not great.\",\n",
    "        \"Absolutely fantastic!\",\n",
    "        \"I hate Mondays.\"\n",
    "    ],\n",
    "    'expected_sentiment': ['positive', 'negative', 'neutral', 'positive', 'negative']\n",
    "}\n",
    "\n",
    "# Create a DataFrame\n",
    "df = pd.DataFrame(data)\n",
    "print(\"\\Sample Dataset:\")\n",
    "print(df)\n",
    "\n",
    "# Apply our sentiment analysis function\n",
    "df['predicted_sentiment'] = df['text'].apply(simple_sentiment_analysis)\n",
    "print(\"\\nAfter Sentiment Analysis:\")\n",
    "print(df)\n",
    "\n",
    "# Calculate accuracy\n",
    "accuracy = (df['expected_sentiment'] == df['predicted_sentiment'].str.lower()).mean()\n",
    "print(f\"\\nAccuracy: {accuracy:.2%}\")"
   ]
  },
  {
   "cell_type": "code",
   "execution_count": 32,
   "id": "ec7ebcb4",
   "metadata": {},
   "outputs": [
    {
     "data": {
      "image/png": "[encoded data removed]",
      "text/plain": [
       "<Figure size 640x480 with 1 Axes>"
      ]
     },
     "metadata": {},
     "output_type": "display_data"
    }
   ],
   "source": [
    "# Step 6: Visualize Results (Using matplotlib)\n",
    "\n",
    "import matplotlib.pyplot as plt\n",
    "\n",
    "# Count sentiment distribution \n",
    "sentiment_counts = df['predicted_sentiment'].value_counts()\n",
    "\n",
    "# Basic bar plot \n",
    "plt.bar(sentiment_counts.index, sentiment_counts.values)\n",
    "plt.title('Sentiment Distribution')\n",
    "plt.xlabel('Sentiment')\n",
    "plt.ylabel('Count')\n",
    "plt.show()"
   ]
  },
  {
   "cell_type": "code",
   "execution_count": 33,
   "id": "f0425f83",
   "metadata": {},
   "outputs": [
    {
     "name": "stdout",
     "output_type": "stream",
     "text": [
      "\n",
      "With TextBlob Analysis:\n",
      "                    text expected_sentiment predicted_sentiment  \\\n",
      "0   I love this product!           positive            Positive   \n",
      "1      This is terrible.           negative             Neutral   \n",
      "2  It's okay, not great.            neutral             Neutral   \n",
      "3  Absolutely fantastic!           positive             Neutral   \n",
      "4        I hate Mondays.           negative            Negative   \n",
      "\n",
      "  textblob_sentiment  \n",
      "0           Positive  \n",
      "1           Negative  \n",
      "2           Positive  \n",
      "3           Positive  \n",
      "4           Negative  \n",
      "\n",
      "TextBlob Accuracy:  80.00%\n"
     ]
    }
   ],
   "source": [
    "## Step 7: Enhance with TextBlob (More Advanced but Easy to Use)\n",
    "\n",
    "## Now we'll introduce a simple NLP library:\n",
    "\n",
    "# First install TextBlob\n",
    "\n",
    "# In terminal: pip install textblob\n",
    "\n",
    "# Then download required NLTK data: python -m textblob.download_corpora\n",
    "\n",
    "from textblob import TextBlob\n",
    "\n",
    "def textblob_sentiment(text):\n",
    "    analysis = TextBlob(text)\n",
    "    if analysis.sentiment.polarity > 0:\n",
    "        return \"Positive\"\n",
    "    elif analysis.sentiment.polarity < 0:\n",
    "        return \"Negative\"\n",
    "    else:\n",
    "        return \"Neutral\"\n",
    "\n",
    "# Apply to our DataFrame\n",
    "df['textblob_sentiment'] = df['text'].apply(textblob_sentiment)\n",
    "print(\"\\nWith TextBlob Analysis:\")\n",
    "print(df)\n",
    "\n",
    "# Compare methods\n",
    "textblob_accuracy = (df['expected_sentiment'] == df['textblob_sentiment'].str.lower()).mean()\n",
    "print(f\"\\nTextBlob Accuracy: {textblob_accuracy: .2%}\")\n"
   ]
  },
  {
   "cell_type": "code",
   "execution_count": 34,
   "id": "aa57a927",
   "metadata": {},
   "outputs": [
    {
     "name": "stdout",
     "output_type": "stream",
     "text": [
      "Results saved to sentiment_results.csv\n",
      "Model saved to simple_sentiment_model.pk1\n"
     ]
    }
   ],
   "source": [
    "# Step 8: Save and Load Your Model (Basic File I/O)\n",
    "\n",
    "import pickle\n",
    "\n",
    "# Save our DataFrame to a CSV file (basic file operation)\n",
    "df.to_csv('/home/bipinhyoju/Downloads/csv files/sentiment_results.csv', index= False)\n",
    "print(\"Results saved to sentiment_results.csv\")\n",
    "\n",
    "# Save our simple sentiment function to a pickle file\n",
    "with open('simple_sentiment_model.pk1', 'wb') as f:\n",
    "    pickle.dump(simple_sentiment_analysis, f)\n",
    "print(\"Model saved to simple_sentiment_model.pk1\")\n",
    "\n",
    "# Later you can load it with:\n",
    "# with open('simple_sentiment_model.pk1', 'rb') as f:\n",
    "#   loaded_model = pickle.load(f)"
   ]
  },
  {
   "cell_type": "code",
   "execution_count": 35,
   "id": "4916695b",
   "metadata": {},
   "outputs": [
    {
     "name": "stdout",
     "output_type": "stream",
     "text": [
      "Simple Sentiment Analyzer\n",
      "Type 'quit' to exit\n",
      "\n",
      "\n",
      "Simple Analysis Result: Positive\n",
      "TextBlob Analysis Result: Positive\n",
      "\n",
      "\n",
      "Simple Analysis Result: Positive\n",
      "TextBlob Analysis Result: Positive\n",
      "\n",
      "\n",
      "Simple Analysis Result: Neutral\n",
      "TextBlob Analysis Result: Neutral\n",
      "\n",
      "\n",
      "Simple Analysis Result: Neutral\n",
      "TextBlob Analysis Result: Neutral\n",
      "\n",
      "\n",
      "Simple Analysis Result: Neutral\n",
      "TextBlob Analysis Result: Neutral\n",
      "\n",
      "\n",
      "Simple Analysis Result: Neutral\n",
      "TextBlob Analysis Result: Neutral\n",
      "\n",
      "\n",
      "Simple Analysis Result: Positive\n",
      "TextBlob Analysis Result: Neutral\n",
      "\n",
      "\n",
      "Simple Analysis Result: Neutral\n",
      "TextBlob Analysis Result: Positive\n",
      "\n",
      "\n",
      "Simple Analysis Result: Neutral\n",
      "TextBlob Analysis Result: Negative\n",
      "\n",
      "\n",
      "Simple Analysis Result: Neutral\n",
      "TextBlob Analysis Result: Neutral\n",
      "\n",
      "\n",
      "Simple Analysis Result: Neutral\n",
      "TextBlob Analysis Result: Negative\n",
      "\n",
      "\n",
      "Simple Analysis Result: Neutral\n",
      "TextBlob Analysis Result: Neutral\n",
      "\n",
      "\n",
      "Simple Analysis Result: Neutral\n",
      "TextBlob Analysis Result: Neutral\n",
      "\n",
      "\n",
      "Simple Analysis Result: Neutral\n",
      "TextBlob Analysis Result: Positive\n",
      "\n",
      "\n",
      "Simple Analysis Result: Positive\n",
      "TextBlob Analysis Result: Negative\n",
      "\n",
      "\n",
      "Simple Analysis Result: Negative\n",
      "TextBlob Analysis Result: Negative\n",
      "\n",
      "\n",
      "Simple Analysis Result: Neutral\n",
      "TextBlob Analysis Result: Negative\n",
      "\n",
      "\n",
      "Simple Analysis Result: Neutral\n",
      "TextBlob Analysis Result: Neutral\n",
      "\n",
      "\n",
      "Simple Analysis Result: Neutral\n",
      "TextBlob Analysis Result: Neutral\n",
      "\n",
      "\n",
      "Simple Analysis Result: Neutral\n",
      "TextBlob Analysis Result: Neutral\n",
      "\n",
      "\n",
      "Simple Analysis Result: Neutral\n",
      "TextBlob Analysis Result: Negative\n",
      "\n",
      "\n",
      "Simple Analysis Result: Neutral\n",
      "TextBlob Analysis Result: Neutral\n",
      "\n",
      "\n",
      "Simple Analysis Result: Neutral\n",
      "TextBlob Analysis Result: Neutral\n",
      "\n",
      "\n",
      "Simple Analysis Result: Neutral\n",
      "TextBlob Analysis Result: Neutral\n",
      "\n"
     ]
    }
   ],
   "source": [
    "# Step 9: Create a Simple Command-Line Interface\n",
    "\n",
    "def main():\n",
    "    \"\"\"Simple command-line sentiment analyzer\"\"\"\n",
    "    print(\"Simple Sentiment Analyzer\")\n",
    "    print(\"Type 'quit' to exit\\n\")\n",
    "    \n",
    "    while True:\n",
    "        user_input = input(\"Enter some text for sentiment analysis: \")\n",
    "        if user_input.lower() == 'quit':\n",
    "            break\n",
    "        \n",
    "        # Use our simple function\n",
    "        simple_result = simple_sentiment_analysis(user_input)\n",
    "        \n",
    "        # Use TextBlob\n",
    "        blob_result = textblob_sentiment(user_input)\n",
    "        \n",
    "        print(f\"\\nSimple Analysis Result: {simple_result}\")\n",
    "        print(f\"TextBlob Analysis Result: {blob_result}\\n\")\n",
    "\n",
    "if __name__ == \"__main__\":\n",
    "    main()"
   ]
  }
 ],
 "metadata": {
  "kernelspec": {
   "display_name": "venv",
   "language": "python",
   "name": "python3"
  },
  "language_info": {
   "codemirror_mode": {
    "name": "ipython",
    "version": 3
   },
   "file_extension": ".py",
   "mimetype": "text/x-python",
   "name": "python",
   "nbconvert_exporter": "python",
   "pygments_lexer": "ipython3",
   "version": "3.12.3"
  }
 },
 "nbformat": 4,
 "nbformat_minor": 5
}
